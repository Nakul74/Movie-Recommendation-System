{
 "cells": [
  {
   "cell_type": "code",
   "execution_count": 1,
   "id": "b5e88d64",
   "metadata": {},
   "outputs": [],
   "source": [
    "#Importing the required libraries\n",
    "import pandas as pd\n",
    "import numpy as np\n",
    "import warnings\n",
    "warnings.filterwarnings(\"ignore\")"
   ]
  },
  {
   "cell_type": "code",
   "execution_count": 2,
   "id": "7b3557ab",
   "metadata": {},
   "outputs": [
    {
     "data": {
      "text/html": [
       "<div>\n",
       "<style scoped>\n",
       "    .dataframe tbody tr th:only-of-type {\n",
       "        vertical-align: middle;\n",
       "    }\n",
       "\n",
       "    .dataframe tbody tr th {\n",
       "        vertical-align: top;\n",
       "    }\n",
       "\n",
       "    .dataframe thead th {\n",
       "        text-align: right;\n",
       "    }\n",
       "</style>\n",
       "<table border=\"1\" class=\"dataframe\">\n",
       "  <thead>\n",
       "    <tr style=\"text-align: right;\">\n",
       "      <th></th>\n",
       "      <th>imdb_title_id</th>\n",
       "      <th>title</th>\n",
       "      <th>original_title</th>\n",
       "      <th>year</th>\n",
       "      <th>date_published</th>\n",
       "      <th>genre</th>\n",
       "      <th>duration</th>\n",
       "      <th>country</th>\n",
       "      <th>language</th>\n",
       "      <th>director</th>\n",
       "      <th>...</th>\n",
       "      <th>actors</th>\n",
       "      <th>description</th>\n",
       "      <th>avg_vote</th>\n",
       "      <th>votes</th>\n",
       "      <th>budget</th>\n",
       "      <th>usa_gross_income</th>\n",
       "      <th>worlwide_gross_income</th>\n",
       "      <th>metascore</th>\n",
       "      <th>reviews_from_users</th>\n",
       "      <th>reviews_from_critics</th>\n",
       "    </tr>\n",
       "  </thead>\n",
       "  <tbody>\n",
       "    <tr>\n",
       "      <th>3358</th>\n",
       "      <td>tt0031722</td>\n",
       "      <td>The Night Riders</td>\n",
       "      <td>The Night Riders</td>\n",
       "      <td>1939</td>\n",
       "      <td>1939-04-12</td>\n",
       "      <td>Action, Adventure, Drama</td>\n",
       "      <td>56</td>\n",
       "      <td>USA</td>\n",
       "      <td>English</td>\n",
       "      <td>George Sherman</td>\n",
       "      <td>...</td>\n",
       "      <td>John Wayne, Ray Corrigan, Max Terhune, Ruth Ro...</td>\n",
       "      <td>Talbot uses a phony land grant to rule thirtee...</td>\n",
       "      <td>6.0</td>\n",
       "      <td>282</td>\n",
       "      <td>NaN</td>\n",
       "      <td>NaN</td>\n",
       "      <td>NaN</td>\n",
       "      <td>NaN</td>\n",
       "      <td>13.0</td>\n",
       "      <td>5.0</td>\n",
       "    </tr>\n",
       "    <tr>\n",
       "      <th>64255</th>\n",
       "      <td>tt2072979</td>\n",
       "      <td>God's Country</td>\n",
       "      <td>God's Country</td>\n",
       "      <td>2012</td>\n",
       "      <td>2012-02-24</td>\n",
       "      <td>Comedy, Drama, Family</td>\n",
       "      <td>96</td>\n",
       "      <td>USA</td>\n",
       "      <td>English</td>\n",
       "      <td>Chris Armstrong</td>\n",
       "      <td>...</td>\n",
       "      <td>Jenn Gotzon, Todd Duffey, Arlene Santana, Suza...</td>\n",
       "      <td>Meghan is a talented property sales executive ...</td>\n",
       "      <td>4.6</td>\n",
       "      <td>294</td>\n",
       "      <td>$ 1000000</td>\n",
       "      <td>NaN</td>\n",
       "      <td>NaN</td>\n",
       "      <td>NaN</td>\n",
       "      <td>14.0</td>\n",
       "      <td>1.0</td>\n",
       "    </tr>\n",
       "    <tr>\n",
       "      <th>50440</th>\n",
       "      <td>tt0826587</td>\n",
       "      <td>Night Junkies</td>\n",
       "      <td>Night Junkies</td>\n",
       "      <td>2007</td>\n",
       "      <td>2007</td>\n",
       "      <td>Horror, Romance, Thriller</td>\n",
       "      <td>90</td>\n",
       "      <td>UK</td>\n",
       "      <td>English</td>\n",
       "      <td>Lawrence Pearce</td>\n",
       "      <td>...</td>\n",
       "      <td>Giles Alderson, Lucy Bowen, Beverley Eve, Matt...</td>\n",
       "      <td>In London, Vincent Monroe is a young man addic...</td>\n",
       "      <td>4.6</td>\n",
       "      <td>624</td>\n",
       "      <td>$ 100000</td>\n",
       "      <td>NaN</td>\n",
       "      <td>NaN</td>\n",
       "      <td>NaN</td>\n",
       "      <td>28.0</td>\n",
       "      <td>15.0</td>\n",
       "    </tr>\n",
       "    <tr>\n",
       "      <th>38499</th>\n",
       "      <td>tt0253960</td>\n",
       "      <td>Yalanci Yarim</td>\n",
       "      <td>Yalanci Yarim</td>\n",
       "      <td>1973</td>\n",
       "      <td>1973</td>\n",
       "      <td>Comedy, Romance</td>\n",
       "      <td>97</td>\n",
       "      <td>Turkey</td>\n",
       "      <td>Turkish</td>\n",
       "      <td>Ertem Egilmez</td>\n",
       "      <td>...</td>\n",
       "      <td>Emel Sayin, Tarik Akan, Münir Özkul, Suzan Ust...</td>\n",
       "      <td>A young man, living with his big brothers mone...</td>\n",
       "      <td>7.2</td>\n",
       "      <td>2083</td>\n",
       "      <td>NaN</td>\n",
       "      <td>NaN</td>\n",
       "      <td>NaN</td>\n",
       "      <td>NaN</td>\n",
       "      <td>NaN</td>\n",
       "      <td>1.0</td>\n",
       "    </tr>\n",
       "    <tr>\n",
       "      <th>8275</th>\n",
       "      <td>tt0047978</td>\n",
       "      <td>Profondo come il mare</td>\n",
       "      <td>The Deep Blue Sea</td>\n",
       "      <td>1955</td>\n",
       "      <td>1955-10-17</td>\n",
       "      <td>Drama, Romance</td>\n",
       "      <td>100</td>\n",
       "      <td>UK</td>\n",
       "      <td>English</td>\n",
       "      <td>Anatole Litvak</td>\n",
       "      <td>...</td>\n",
       "      <td>Vivien Leigh, Kenneth More, Eric Portman, Emly...</td>\n",
       "      <td>A woman unhappy in her passionless marriage le...</td>\n",
       "      <td>6.6</td>\n",
       "      <td>294</td>\n",
       "      <td>NaN</td>\n",
       "      <td>NaN</td>\n",
       "      <td>NaN</td>\n",
       "      <td>NaN</td>\n",
       "      <td>15.0</td>\n",
       "      <td>2.0</td>\n",
       "    </tr>\n",
       "  </tbody>\n",
       "</table>\n",
       "<p>5 rows × 22 columns</p>\n",
       "</div>"
      ],
      "text/plain": [
       "      imdb_title_id                  title     original_title  year  \\\n",
       "3358      tt0031722       The Night Riders   The Night Riders  1939   \n",
       "64255     tt2072979          God's Country      God's Country  2012   \n",
       "50440     tt0826587          Night Junkies      Night Junkies  2007   \n",
       "38499     tt0253960          Yalanci Yarim      Yalanci Yarim  1973   \n",
       "8275      tt0047978  Profondo come il mare  The Deep Blue Sea  1955   \n",
       "\n",
       "      date_published                      genre  duration country language  \\\n",
       "3358      1939-04-12   Action, Adventure, Drama        56     USA  English   \n",
       "64255     2012-02-24      Comedy, Drama, Family        96     USA  English   \n",
       "50440           2007  Horror, Romance, Thriller        90      UK  English   \n",
       "38499           1973            Comedy, Romance        97  Turkey  Turkish   \n",
       "8275      1955-10-17             Drama, Romance       100      UK  English   \n",
       "\n",
       "              director  ...  \\\n",
       "3358    George Sherman  ...   \n",
       "64255  Chris Armstrong  ...   \n",
       "50440  Lawrence Pearce  ...   \n",
       "38499    Ertem Egilmez  ...   \n",
       "8275    Anatole Litvak  ...   \n",
       "\n",
       "                                                  actors  \\\n",
       "3358   John Wayne, Ray Corrigan, Max Terhune, Ruth Ro...   \n",
       "64255  Jenn Gotzon, Todd Duffey, Arlene Santana, Suza...   \n",
       "50440  Giles Alderson, Lucy Bowen, Beverley Eve, Matt...   \n",
       "38499  Emel Sayin, Tarik Akan, Münir Özkul, Suzan Ust...   \n",
       "8275   Vivien Leigh, Kenneth More, Eric Portman, Emly...   \n",
       "\n",
       "                                             description avg_vote votes  \\\n",
       "3358   Talbot uses a phony land grant to rule thirtee...      6.0   282   \n",
       "64255  Meghan is a talented property sales executive ...      4.6   294   \n",
       "50440  In London, Vincent Monroe is a young man addic...      4.6   624   \n",
       "38499  A young man, living with his big brothers mone...      7.2  2083   \n",
       "8275   A woman unhappy in her passionless marriage le...      6.6   294   \n",
       "\n",
       "          budget  usa_gross_income worlwide_gross_income metascore  \\\n",
       "3358         NaN               NaN                   NaN       NaN   \n",
       "64255  $ 1000000               NaN                   NaN       NaN   \n",
       "50440   $ 100000               NaN                   NaN       NaN   \n",
       "38499        NaN               NaN                   NaN       NaN   \n",
       "8275         NaN               NaN                   NaN       NaN   \n",
       "\n",
       "      reviews_from_users  reviews_from_critics  \n",
       "3358                13.0                   5.0  \n",
       "64255               14.0                   1.0  \n",
       "50440               28.0                  15.0  \n",
       "38499                NaN                   1.0  \n",
       "8275                15.0                   2.0  \n",
       "\n",
       "[5 rows x 22 columns]"
      ]
     },
     "execution_count": 2,
     "metadata": {},
     "output_type": "execute_result"
    }
   ],
   "source": [
    "df = pd.read_csv(r'movies_data.csv')\n",
    "df.sample(5)"
   ]
  },
  {
   "cell_type": "code",
   "execution_count": 3,
   "id": "4e64e4c1",
   "metadata": {},
   "outputs": [
    {
     "data": {
      "text/plain": [
       "(85855, 22)"
      ]
     },
     "execution_count": 3,
     "metadata": {},
     "output_type": "execute_result"
    }
   ],
   "source": [
    "df.shape"
   ]
  },
  {
   "cell_type": "code",
   "execution_count": 4,
   "id": "de2a47ec",
   "metadata": {},
   "outputs": [
    {
     "data": {
      "text/plain": [
       "Index(['imdb_title_id', 'title', 'original_title', 'year', 'date_published',\n",
       "       'genre', 'duration', 'country', 'language', 'director', 'writer',\n",
       "       'production_company', 'actors', 'description', 'avg_vote', 'votes',\n",
       "       'budget', 'usa_gross_income', 'worlwide_gross_income', 'metascore',\n",
       "       'reviews_from_users', 'reviews_from_critics'],\n",
       "      dtype='object')"
      ]
     },
     "execution_count": 4,
     "metadata": {},
     "output_type": "execute_result"
    }
   ],
   "source": [
    "df.columns"
   ]
  },
  {
   "cell_type": "code",
   "execution_count": 5,
   "id": "91d1f027",
   "metadata": {},
   "outputs": [],
   "source": [
    "col = ['imdb_title_id','original_title','year','genre','director','writer','actors','description','avg_vote', 'votes']\n",
    "df = df[col]"
   ]
  },
  {
   "cell_type": "code",
   "execution_count": 6,
   "id": "9b17f921",
   "metadata": {},
   "outputs": [
    {
     "data": {
      "text/plain": [
       "5003"
      ]
     },
     "execution_count": 6,
     "metadata": {},
     "output_type": "execute_result"
    }
   ],
   "source": [
    "sum(df['original_title'].duplicated())"
   ]
  },
  {
   "cell_type": "code",
   "execution_count": 7,
   "id": "d6871c81",
   "metadata": {},
   "outputs": [],
   "source": [
    "df.drop_duplicates(subset='original_title',inplace=True)"
   ]
  },
  {
   "cell_type": "code",
   "execution_count": 8,
   "id": "cfc07443",
   "metadata": {},
   "outputs": [
    {
     "data": {
      "text/plain": [
       "Index(['imdb_title_id', 'original_title', 'year', 'genre', 'director',\n",
       "       'writer', 'actors', 'description', 'avg_vote', 'votes'],\n",
       "      dtype='object')"
      ]
     },
     "execution_count": 8,
     "metadata": {},
     "output_type": "execute_result"
    }
   ],
   "source": [
    "df.columns"
   ]
  },
  {
   "cell_type": "code",
   "execution_count": 9,
   "id": "f99de0d4",
   "metadata": {},
   "outputs": [
    {
     "name": "stdout",
     "output_type": "stream",
     "text": [
      "<class 'pandas.core.frame.DataFrame'>\n",
      "Int64Index: 80852 entries, 0 to 85854\n",
      "Data columns (total 10 columns):\n",
      " #   Column          Non-Null Count  Dtype  \n",
      "---  ------          --------------  -----  \n",
      " 0   imdb_title_id   80852 non-null  object \n",
      " 1   original_title  80852 non-null  object \n",
      " 2   year            80852 non-null  object \n",
      " 3   genre           80852 non-null  object \n",
      " 4   director        80771 non-null  object \n",
      " 5   writer          79355 non-null  object \n",
      " 6   actors          80787 non-null  object \n",
      " 7   description     78777 non-null  object \n",
      " 8   avg_vote        80852 non-null  float64\n",
      " 9   votes           80852 non-null  int64  \n",
      "dtypes: float64(1), int64(1), object(8)\n",
      "memory usage: 6.8+ MB\n"
     ]
    }
   ],
   "source": [
    "df.info()"
   ]
  },
  {
   "cell_type": "code",
   "execution_count": 10,
   "id": "f07dc42c",
   "metadata": {},
   "outputs": [],
   "source": [
    "data = df.copy()"
   ]
  },
  {
   "cell_type": "code",
   "execution_count": 11,
   "id": "f72c8f74",
   "metadata": {},
   "outputs": [],
   "source": [
    "def preprocess_cast(s,l=5):\n",
    "    try :\n",
    "        s = s.lower()\n",
    "        s = s.replace(' ','')\n",
    "        s = s.replace(',',' ')\n",
    "        s = s.split(' ')\n",
    "        s = s[:5]\n",
    "    \n",
    "        return ' '.join(s)\n",
    "    except AttributeError:\n",
    "        return s"
   ]
  },
  {
   "cell_type": "code",
   "execution_count": 12,
   "id": "0ec02f4e",
   "metadata": {},
   "outputs": [
    {
     "data": {
      "text/plain": [
       "'Salvatore Papa, Arturo Pirovano, Giuseppe de Liguoro, Pier Delle Vigne, Augusto Milla, Attilio Motta, Emilise Beretta'"
      ]
     },
     "execution_count": 12,
     "metadata": {},
     "output_type": "execute_result"
    }
   ],
   "source": [
    "data.actors[4]"
   ]
  },
  {
   "cell_type": "code",
   "execution_count": 13,
   "id": "28d6d51c",
   "metadata": {},
   "outputs": [
    {
     "data": {
      "text/plain": [
       "'salvatorepapa arturopirovano giuseppedeliguoro pierdellevigne augustomilla'"
      ]
     },
     "execution_count": 13,
     "metadata": {},
     "output_type": "execute_result"
    }
   ],
   "source": [
    "preprocess_cast(data.actors[4],l=5)"
   ]
  },
  {
   "cell_type": "code",
   "execution_count": 14,
   "id": "05888adf",
   "metadata": {},
   "outputs": [],
   "source": [
    "data['director'] = data['director'].apply(lambda x : preprocess_cast(x,l=1))\n",
    "data['writer'] = data['writer'].apply(lambda x : preprocess_cast(x,l=1))\n",
    "data['actors'] = data['actors'].apply(lambda x : preprocess_cast(x,l=5))"
   ]
  },
  {
   "cell_type": "code",
   "execution_count": 15,
   "id": "8d73cb44",
   "metadata": {},
   "outputs": [
    {
     "data": {
      "text/plain": [
       "'salvatorepapa arturopirovano giuseppedeliguoro pierdellevigne augustomilla'"
      ]
     },
     "execution_count": 15,
     "metadata": {},
     "output_type": "execute_result"
    }
   ],
   "source": [
    "data.actors[4]"
   ]
  },
  {
   "cell_type": "code",
   "execution_count": 16,
   "id": "43598468",
   "metadata": {},
   "outputs": [
    {
     "data": {
      "text/plain": [
       "'Biography, Crime, Drama'"
      ]
     },
     "execution_count": 16,
     "metadata": {},
     "output_type": "execute_result"
    }
   ],
   "source": [
    "data.genre[1]"
   ]
  },
  {
   "cell_type": "code",
   "execution_count": 17,
   "id": "abdd8d49",
   "metadata": {},
   "outputs": [],
   "source": [
    "def preprocess_genre(s):\n",
    "    s = s.replace(' ','')\n",
    "    s = s.replace(',',' ')\n",
    "    \n",
    "    return s"
   ]
  },
  {
   "cell_type": "code",
   "execution_count": 18,
   "id": "f522f5c6",
   "metadata": {},
   "outputs": [],
   "source": [
    "data['genre'] = data['genre'].apply(lambda x : preprocess_genre(x))"
   ]
  },
  {
   "cell_type": "code",
   "execution_count": 19,
   "id": "e8db6807",
   "metadata": {},
   "outputs": [
    {
     "data": {
      "text/plain": [
       "'Biography Crime Drama'"
      ]
     },
     "execution_count": 19,
     "metadata": {},
     "output_type": "execute_result"
    }
   ],
   "source": [
    "data.genre[1]"
   ]
  },
  {
   "cell_type": "code",
   "execution_count": 20,
   "id": "d29ad659",
   "metadata": {},
   "outputs": [
    {
     "name": "stdout",
     "output_type": "stream",
     "text": [
      "<class 'pandas.core.frame.DataFrame'>\n",
      "Int64Index: 80852 entries, 0 to 85854\n",
      "Data columns (total 10 columns):\n",
      " #   Column          Non-Null Count  Dtype  \n",
      "---  ------          --------------  -----  \n",
      " 0   imdb_title_id   80852 non-null  object \n",
      " 1   original_title  80852 non-null  object \n",
      " 2   year            80852 non-null  object \n",
      " 3   genre           80852 non-null  object \n",
      " 4   director        80771 non-null  object \n",
      " 5   writer          79355 non-null  object \n",
      " 6   actors          80787 non-null  object \n",
      " 7   description     78777 non-null  object \n",
      " 8   avg_vote        80852 non-null  float64\n",
      " 9   votes           80852 non-null  int64  \n",
      "dtypes: float64(1), int64(1), object(8)\n",
      "memory usage: 8.8+ MB\n"
     ]
    }
   ],
   "source": [
    "data.info()"
   ]
  },
  {
   "cell_type": "code",
   "execution_count": 21,
   "id": "82d1986d",
   "metadata": {},
   "outputs": [
    {
     "data": {
      "text/html": [
       "<div>\n",
       "<style scoped>\n",
       "    .dataframe tbody tr th:only-of-type {\n",
       "        vertical-align: middle;\n",
       "    }\n",
       "\n",
       "    .dataframe tbody tr th {\n",
       "        vertical-align: top;\n",
       "    }\n",
       "\n",
       "    .dataframe thead th {\n",
       "        text-align: right;\n",
       "    }\n",
       "</style>\n",
       "<table border=\"1\" class=\"dataframe\">\n",
       "  <thead>\n",
       "    <tr style=\"text-align: right;\">\n",
       "      <th></th>\n",
       "      <th>imdb_title_id</th>\n",
       "      <th>original_title</th>\n",
       "      <th>year</th>\n",
       "      <th>genre</th>\n",
       "      <th>director</th>\n",
       "      <th>writer</th>\n",
       "      <th>actors</th>\n",
       "      <th>description</th>\n",
       "      <th>avg_vote</th>\n",
       "      <th>votes</th>\n",
       "    </tr>\n",
       "  </thead>\n",
       "  <tbody>\n",
       "    <tr>\n",
       "      <th>83917</th>\n",
       "      <td>tt8206668</td>\n",
       "      <td>Bad Education</td>\n",
       "      <td>TV Movie 2019</td>\n",
       "      <td>Biography Comedy Crime</td>\n",
       "      <td>coryfinley</td>\n",
       "      <td>mikemakowsky robertkolker</td>\n",
       "      <td>hughjackman rayromano welkerwhite allisonjanne...</td>\n",
       "      <td>The beloved superintendent of New York's Rosly...</td>\n",
       "      <td>7.1</td>\n",
       "      <td>23973</td>\n",
       "    </tr>\n",
       "  </tbody>\n",
       "</table>\n",
       "</div>"
      ],
      "text/plain": [
       "      imdb_title_id original_title           year                   genre  \\\n",
       "83917     tt8206668  Bad Education  TV Movie 2019  Biography Comedy Crime   \n",
       "\n",
       "         director                     writer  \\\n",
       "83917  coryfinley  mikemakowsky robertkolker   \n",
       "\n",
       "                                                  actors  \\\n",
       "83917  hughjackman rayromano welkerwhite allisonjanne...   \n",
       "\n",
       "                                             description  avg_vote  votes  \n",
       "83917  The beloved superintendent of New York's Rosly...       7.1  23973  "
      ]
     },
     "execution_count": 21,
     "metadata": {},
     "output_type": "execute_result"
    }
   ],
   "source": [
    "data[data.year == 'TV Movie 2019']"
   ]
  },
  {
   "cell_type": "code",
   "execution_count": 22,
   "id": "596f933e",
   "metadata": {},
   "outputs": [],
   "source": [
    "data = data.drop(83917,axis=0)"
   ]
  },
  {
   "cell_type": "code",
   "execution_count": 23,
   "id": "9c64a531",
   "metadata": {},
   "outputs": [],
   "source": [
    "data.year = data.year.astype('int32')"
   ]
  },
  {
   "cell_type": "code",
   "execution_count": 24,
   "id": "ffae0d28",
   "metadata": {},
   "outputs": [],
   "source": [
    "l = data[(data.actors.isna()) & (data.director.isna()) & (data.writer.isna())].index.tolist()"
   ]
  },
  {
   "cell_type": "code",
   "execution_count": 25,
   "id": "3f3a50d5",
   "metadata": {},
   "outputs": [],
   "source": [
    "data = data.drop(l,axis=0)"
   ]
  },
  {
   "cell_type": "code",
   "execution_count": 26,
   "id": "76a0b4f7",
   "metadata": {},
   "outputs": [
    {
     "name": "stdout",
     "output_type": "stream",
     "text": [
      "<class 'pandas.core.frame.DataFrame'>\n",
      "Int64Index: 80838 entries, 0 to 85854\n",
      "Data columns (total 10 columns):\n",
      " #   Column          Non-Null Count  Dtype  \n",
      "---  ------          --------------  -----  \n",
      " 0   imdb_title_id   80838 non-null  object \n",
      " 1   original_title  80838 non-null  object \n",
      " 2   year            80838 non-null  int32  \n",
      " 3   genre           80838 non-null  object \n",
      " 4   director        80770 non-null  object \n",
      " 5   writer          79354 non-null  object \n",
      " 6   actors          80786 non-null  object \n",
      " 7   description     78764 non-null  object \n",
      " 8   avg_vote        80838 non-null  float64\n",
      " 9   votes           80838 non-null  int64  \n",
      "dtypes: float64(1), int32(1), int64(1), object(7)\n",
      "memory usage: 6.5+ MB\n"
     ]
    }
   ],
   "source": [
    "data.info()"
   ]
  },
  {
   "cell_type": "code",
   "execution_count": 27,
   "id": "61b03c7a",
   "metadata": {},
   "outputs": [
    {
     "data": {
      "text/html": [
       "<div>\n",
       "<style scoped>\n",
       "    .dataframe tbody tr th:only-of-type {\n",
       "        vertical-align: middle;\n",
       "    }\n",
       "\n",
       "    .dataframe tbody tr th {\n",
       "        vertical-align: top;\n",
       "    }\n",
       "\n",
       "    .dataframe thead th {\n",
       "        text-align: right;\n",
       "    }\n",
       "</style>\n",
       "<table border=\"1\" class=\"dataframe\">\n",
       "  <thead>\n",
       "    <tr style=\"text-align: right;\">\n",
       "      <th></th>\n",
       "      <th>imdb_title_id</th>\n",
       "      <th>original_title</th>\n",
       "      <th>year</th>\n",
       "      <th>genre</th>\n",
       "      <th>director</th>\n",
       "      <th>writer</th>\n",
       "      <th>actors</th>\n",
       "      <th>description</th>\n",
       "      <th>avg_vote</th>\n",
       "      <th>votes</th>\n",
       "    </tr>\n",
       "  </thead>\n",
       "  <tbody>\n",
       "    <tr>\n",
       "      <th>0</th>\n",
       "      <td>tt0000009</td>\n",
       "      <td>Miss Jerry</td>\n",
       "      <td>1894</td>\n",
       "      <td>Romance</td>\n",
       "      <td>alexanderblack</td>\n",
       "      <td>alexanderblack</td>\n",
       "      <td>blanchebayliss williamcourtenay chaunceydepew</td>\n",
       "      <td>The adventures of a female reporter in the 1890s.</td>\n",
       "      <td>5.9</td>\n",
       "      <td>154</td>\n",
       "    </tr>\n",
       "    <tr>\n",
       "      <th>1</th>\n",
       "      <td>tt0000574</td>\n",
       "      <td>The Story of the Kelly Gang</td>\n",
       "      <td>1906</td>\n",
       "      <td>Biography Crime Drama</td>\n",
       "      <td>charlestait</td>\n",
       "      <td>charlestait</td>\n",
       "      <td>elizabethtait johntait normancampbell bellacol...</td>\n",
       "      <td>True story of notorious Australian outlaw Ned ...</td>\n",
       "      <td>6.1</td>\n",
       "      <td>589</td>\n",
       "    </tr>\n",
       "    <tr>\n",
       "      <th>2</th>\n",
       "      <td>tt0001892</td>\n",
       "      <td>Den sorte drøm</td>\n",
       "      <td>1911</td>\n",
       "      <td>Drama</td>\n",
       "      <td>urbangad</td>\n",
       "      <td>urbangad gebhardschätzler-perasini</td>\n",
       "      <td>astanielsen valdemarpsilander gunnarhelsengree...</td>\n",
       "      <td>Two men of high rank are both wooing the beaut...</td>\n",
       "      <td>5.8</td>\n",
       "      <td>188</td>\n",
       "    </tr>\n",
       "    <tr>\n",
       "      <th>3</th>\n",
       "      <td>tt0002101</td>\n",
       "      <td>Cleopatra</td>\n",
       "      <td>1912</td>\n",
       "      <td>Drama History</td>\n",
       "      <td>charlesl.gaskill</td>\n",
       "      <td>victoriensardou</td>\n",
       "      <td>helengardner pearlsindelar missfielding missro...</td>\n",
       "      <td>The fabled queen of Egypt's affair with Roman ...</td>\n",
       "      <td>5.2</td>\n",
       "      <td>446</td>\n",
       "    </tr>\n",
       "    <tr>\n",
       "      <th>4</th>\n",
       "      <td>tt0002130</td>\n",
       "      <td>L'Inferno</td>\n",
       "      <td>1911</td>\n",
       "      <td>Adventure Drama Fantasy</td>\n",
       "      <td>francescobertolini adolfopadovan</td>\n",
       "      <td>dantealighieri</td>\n",
       "      <td>salvatorepapa arturopirovano giuseppedeliguoro...</td>\n",
       "      <td>Loosely adapted from Dante's Divine Comedy and...</td>\n",
       "      <td>7.0</td>\n",
       "      <td>2237</td>\n",
       "    </tr>\n",
       "  </tbody>\n",
       "</table>\n",
       "</div>"
      ],
      "text/plain": [
       "  imdb_title_id               original_title  year                    genre  \\\n",
       "0     tt0000009                   Miss Jerry  1894                  Romance   \n",
       "1     tt0000574  The Story of the Kelly Gang  1906    Biography Crime Drama   \n",
       "2     tt0001892               Den sorte drøm  1911                    Drama   \n",
       "3     tt0002101                    Cleopatra  1912            Drama History   \n",
       "4     tt0002130                    L'Inferno  1911  Adventure Drama Fantasy   \n",
       "\n",
       "                           director                              writer  \\\n",
       "0                    alexanderblack                      alexanderblack   \n",
       "1                       charlestait                         charlestait   \n",
       "2                          urbangad  urbangad gebhardschätzler-perasini   \n",
       "3                  charlesl.gaskill                     victoriensardou   \n",
       "4  francescobertolini adolfopadovan                      dantealighieri   \n",
       "\n",
       "                                              actors  \\\n",
       "0      blanchebayliss williamcourtenay chaunceydepew   \n",
       "1  elizabethtait johntait normancampbell bellacol...   \n",
       "2  astanielsen valdemarpsilander gunnarhelsengree...   \n",
       "3  helengardner pearlsindelar missfielding missro...   \n",
       "4  salvatorepapa arturopirovano giuseppedeliguoro...   \n",
       "\n",
       "                                         description  avg_vote  votes  \n",
       "0  The adventures of a female reporter in the 1890s.       5.9    154  \n",
       "1  True story of notorious Australian outlaw Ned ...       6.1    589  \n",
       "2  Two men of high rank are both wooing the beaut...       5.8    188  \n",
       "3  The fabled queen of Egypt's affair with Roman ...       5.2    446  \n",
       "4  Loosely adapted from Dante's Divine Comedy and...       7.0   2237  "
      ]
     },
     "execution_count": 27,
     "metadata": {},
     "output_type": "execute_result"
    }
   ],
   "source": [
    "data.head()"
   ]
  },
  {
   "cell_type": "code",
   "execution_count": 28,
   "id": "cc235416",
   "metadata": {},
   "outputs": [],
   "source": [
    "data['full_cast'] = (data['director'] +' '+ data['writer'] +' '+ data['actors'])"
   ]
  },
  {
   "cell_type": "code",
   "execution_count": 29,
   "id": "cbddc823",
   "metadata": {},
   "outputs": [],
   "source": [
    "def cast_preprocess(s):\n",
    "    try:\n",
    "        s = list(set(s.split(' ')))\n",
    "        return ' '.join(s)\n",
    "    except AttributeError:\n",
    "        return s"
   ]
  },
  {
   "cell_type": "code",
   "execution_count": 30,
   "id": "180f3c54",
   "metadata": {},
   "outputs": [],
   "source": [
    "data['full_cast'] = data['full_cast'].apply(lambda x : cast_preprocess(x))"
   ]
  },
  {
   "cell_type": "code",
   "execution_count": 31,
   "id": "737ae7c9",
   "metadata": {},
   "outputs": [
    {
     "data": {
      "text/html": [
       "<div>\n",
       "<style scoped>\n",
       "    .dataframe tbody tr th:only-of-type {\n",
       "        vertical-align: middle;\n",
       "    }\n",
       "\n",
       "    .dataframe tbody tr th {\n",
       "        vertical-align: top;\n",
       "    }\n",
       "\n",
       "    .dataframe thead th {\n",
       "        text-align: right;\n",
       "    }\n",
       "</style>\n",
       "<table border=\"1\" class=\"dataframe\">\n",
       "  <thead>\n",
       "    <tr style=\"text-align: right;\">\n",
       "      <th></th>\n",
       "      <th>imdb_title_id</th>\n",
       "      <th>original_title</th>\n",
       "      <th>year</th>\n",
       "      <th>genre</th>\n",
       "      <th>director</th>\n",
       "      <th>writer</th>\n",
       "      <th>actors</th>\n",
       "      <th>description</th>\n",
       "      <th>avg_vote</th>\n",
       "      <th>votes</th>\n",
       "      <th>full_cast</th>\n",
       "    </tr>\n",
       "  </thead>\n",
       "  <tbody>\n",
       "    <tr>\n",
       "      <th>0</th>\n",
       "      <td>tt0000009</td>\n",
       "      <td>Miss Jerry</td>\n",
       "      <td>1894</td>\n",
       "      <td>Romance</td>\n",
       "      <td>alexanderblack</td>\n",
       "      <td>alexanderblack</td>\n",
       "      <td>blanchebayliss williamcourtenay chaunceydepew</td>\n",
       "      <td>The adventures of a female reporter in the 1890s.</td>\n",
       "      <td>5.9</td>\n",
       "      <td>154</td>\n",
       "      <td>williamcourtenay chaunceydepew blanchebayliss ...</td>\n",
       "    </tr>\n",
       "    <tr>\n",
       "      <th>1</th>\n",
       "      <td>tt0000574</td>\n",
       "      <td>The Story of the Kelly Gang</td>\n",
       "      <td>1906</td>\n",
       "      <td>Biography Crime Drama</td>\n",
       "      <td>charlestait</td>\n",
       "      <td>charlestait</td>\n",
       "      <td>elizabethtait johntait normancampbell bellacol...</td>\n",
       "      <td>True story of notorious Australian outlaw Ned ...</td>\n",
       "      <td>6.1</td>\n",
       "      <td>589</td>\n",
       "      <td>charlestait johntait elizabethtait bellacola w...</td>\n",
       "    </tr>\n",
       "  </tbody>\n",
       "</table>\n",
       "</div>"
      ],
      "text/plain": [
       "  imdb_title_id               original_title  year                  genre  \\\n",
       "0     tt0000009                   Miss Jerry  1894                Romance   \n",
       "1     tt0000574  The Story of the Kelly Gang  1906  Biography Crime Drama   \n",
       "\n",
       "         director          writer  \\\n",
       "0  alexanderblack  alexanderblack   \n",
       "1     charlestait     charlestait   \n",
       "\n",
       "                                              actors  \\\n",
       "0      blanchebayliss williamcourtenay chaunceydepew   \n",
       "1  elizabethtait johntait normancampbell bellacol...   \n",
       "\n",
       "                                         description  avg_vote  votes  \\\n",
       "0  The adventures of a female reporter in the 1890s.       5.9    154   \n",
       "1  True story of notorious Australian outlaw Ned ...       6.1    589   \n",
       "\n",
       "                                           full_cast  \n",
       "0  williamcourtenay chaunceydepew blanchebayliss ...  \n",
       "1  charlestait johntait elizabethtait bellacola w...  "
      ]
     },
     "execution_count": 31,
     "metadata": {},
     "output_type": "execute_result"
    }
   ],
   "source": [
    "data.head(2)"
   ]
  },
  {
   "cell_type": "code",
   "execution_count": 32,
   "id": "bd0e4f20",
   "metadata": {},
   "outputs": [],
   "source": [
    "data['original_title'] = data['original_title'].str.lower()"
   ]
  },
  {
   "cell_type": "code",
   "execution_count": 33,
   "id": "5715e69c",
   "metadata": {},
   "outputs": [
    {
     "data": {
      "text/plain": [
       "imdb_title_id        0\n",
       "original_title       0\n",
       "year                 0\n",
       "genre                0\n",
       "director            68\n",
       "writer            1484\n",
       "actors              52\n",
       "description       2074\n",
       "avg_vote             0\n",
       "votes                0\n",
       "full_cast         1548\n",
       "dtype: int64"
      ]
     },
     "execution_count": 33,
     "metadata": {},
     "output_type": "execute_result"
    }
   ],
   "source": [
    "data.isna().sum()"
   ]
  },
  {
   "cell_type": "code",
   "execution_count": 34,
   "id": "71b23771",
   "metadata": {},
   "outputs": [],
   "source": [
    "data = data[data['full_cast'].notna()]"
   ]
  },
  {
   "cell_type": "code",
   "execution_count": 35,
   "id": "fb364e07",
   "metadata": {},
   "outputs": [
    {
     "data": {
      "text/plain": [
       "(79290, 11)"
      ]
     },
     "execution_count": 35,
     "metadata": {},
     "output_type": "execute_result"
    }
   ],
   "source": [
    "data.shape"
   ]
  },
  {
   "cell_type": "code",
   "execution_count": 36,
   "id": "155d0478",
   "metadata": {},
   "outputs": [
    {
     "data": {
      "text/html": [
       "<div>\n",
       "<style scoped>\n",
       "    .dataframe tbody tr th:only-of-type {\n",
       "        vertical-align: middle;\n",
       "    }\n",
       "\n",
       "    .dataframe tbody tr th {\n",
       "        vertical-align: top;\n",
       "    }\n",
       "\n",
       "    .dataframe thead th {\n",
       "        text-align: right;\n",
       "    }\n",
       "</style>\n",
       "<table border=\"1\" class=\"dataframe\">\n",
       "  <thead>\n",
       "    <tr style=\"text-align: right;\">\n",
       "      <th></th>\n",
       "      <th>imdb_title_id</th>\n",
       "      <th>original_title</th>\n",
       "      <th>year</th>\n",
       "      <th>genre</th>\n",
       "      <th>director</th>\n",
       "      <th>writer</th>\n",
       "      <th>actors</th>\n",
       "      <th>description</th>\n",
       "      <th>avg_vote</th>\n",
       "      <th>votes</th>\n",
       "      <th>full_cast</th>\n",
       "    </tr>\n",
       "  </thead>\n",
       "  <tbody>\n",
       "    <tr>\n",
       "      <th>31248</th>\n",
       "      <td>tt0120686</td>\n",
       "      <td>stepmom</td>\n",
       "      <td>1998</td>\n",
       "      <td>comedy drama</td>\n",
       "      <td>chriscolumbus</td>\n",
       "      <td>gigilevangie gigilevangie</td>\n",
       "      <td>juliaroberts susansarandon edharris jenamalone...</td>\n",
       "      <td>A terminally-ill woman must deal with her ex-h...</td>\n",
       "      <td>6.8</td>\n",
       "      <td>59467</td>\n",
       "      <td>edharris juliaroberts gigilevangie liamaiken j...</td>\n",
       "    </tr>\n",
       "  </tbody>\n",
       "</table>\n",
       "</div>"
      ],
      "text/plain": [
       "      imdb_title_id original_title  year         genre       director  \\\n",
       "31248     tt0120686        stepmom  1998  comedy drama  chriscolumbus   \n",
       "\n",
       "                          writer  \\\n",
       "31248  gigilevangie gigilevangie   \n",
       "\n",
       "                                                  actors  \\\n",
       "31248  juliaroberts susansarandon edharris jenamalone...   \n",
       "\n",
       "                                             description  avg_vote  votes  \\\n",
       "31248  A terminally-ill woman must deal with her ex-h...       6.8  59467   \n",
       "\n",
       "                                               full_cast  \n",
       "31248  edharris juliaroberts gigilevangie liamaiken j...  "
      ]
     },
     "execution_count": 36,
     "metadata": {},
     "output_type": "execute_result"
    }
   ],
   "source": [
    "data.sample()"
   ]
  },
  {
   "cell_type": "code",
   "execution_count": 37,
   "id": "54af32b8",
   "metadata": {},
   "outputs": [],
   "source": [
    "data.votes /= data.votes.max()\n",
    "data.avg_vote /= data.avg_vote.max()\n",
    "\n",
    "data['metascore1'] = (0.5 * data.votes) + (0.5 * data.avg_vote)"
   ]
  },
  {
   "cell_type": "code",
   "execution_count": 38,
   "id": "ffb77c23",
   "metadata": {},
   "outputs": [
    {
     "data": {
      "text/html": [
       "<div>\n",
       "<style scoped>\n",
       "    .dataframe tbody tr th:only-of-type {\n",
       "        vertical-align: middle;\n",
       "    }\n",
       "\n",
       "    .dataframe tbody tr th {\n",
       "        vertical-align: top;\n",
       "    }\n",
       "\n",
       "    .dataframe thead th {\n",
       "        text-align: right;\n",
       "    }\n",
       "</style>\n",
       "<table border=\"1\" class=\"dataframe\">\n",
       "  <thead>\n",
       "    <tr style=\"text-align: right;\">\n",
       "      <th></th>\n",
       "      <th>imdb_title_id</th>\n",
       "      <th>original_title</th>\n",
       "      <th>year</th>\n",
       "      <th>genre</th>\n",
       "      <th>director</th>\n",
       "      <th>writer</th>\n",
       "      <th>actors</th>\n",
       "      <th>description</th>\n",
       "      <th>avg_vote</th>\n",
       "      <th>votes</th>\n",
       "      <th>full_cast</th>\n",
       "      <th>metascore1</th>\n",
       "    </tr>\n",
       "  </thead>\n",
       "  <tbody>\n",
       "    <tr>\n",
       "      <th>0</th>\n",
       "      <td>tt0000009</td>\n",
       "      <td>miss jerry</td>\n",
       "      <td>1894</td>\n",
       "      <td>romance</td>\n",
       "      <td>alexanderblack</td>\n",
       "      <td>alexanderblack</td>\n",
       "      <td>blanchebayliss williamcourtenay chaunceydepew</td>\n",
       "      <td>The adventures of a female reporter in the 1890s.</td>\n",
       "      <td>0.602041</td>\n",
       "      <td>0.000068</td>\n",
       "      <td>williamcourtenay chaunceydepew blanchebayliss ...</td>\n",
       "      <td>0.301054</td>\n",
       "    </tr>\n",
       "    <tr>\n",
       "      <th>1</th>\n",
       "      <td>tt0000574</td>\n",
       "      <td>the story of the kelly gang</td>\n",
       "      <td>1906</td>\n",
       "      <td>biography crime drama</td>\n",
       "      <td>charlestait</td>\n",
       "      <td>charlestait</td>\n",
       "      <td>elizabethtait johntait normancampbell bellacol...</td>\n",
       "      <td>True story of notorious Australian outlaw Ned ...</td>\n",
       "      <td>0.622449</td>\n",
       "      <td>0.000258</td>\n",
       "      <td>charlestait johntait elizabethtait bellacola w...</td>\n",
       "      <td>0.311354</td>\n",
       "    </tr>\n",
       "    <tr>\n",
       "      <th>2</th>\n",
       "      <td>tt0001892</td>\n",
       "      <td>den sorte drøm</td>\n",
       "      <td>1911</td>\n",
       "      <td>drama</td>\n",
       "      <td>urbangad</td>\n",
       "      <td>urbangad gebhardschätzler-perasini</td>\n",
       "      <td>astanielsen valdemarpsilander gunnarhelsengree...</td>\n",
       "      <td>Two men of high rank are both wooing the beaut...</td>\n",
       "      <td>0.591837</td>\n",
       "      <td>0.000082</td>\n",
       "      <td>astanielsen gebhardschätzler-perasini valdemar...</td>\n",
       "      <td>0.295960</td>\n",
       "    </tr>\n",
       "    <tr>\n",
       "      <th>3</th>\n",
       "      <td>tt0002101</td>\n",
       "      <td>cleopatra</td>\n",
       "      <td>1912</td>\n",
       "      <td>drama history</td>\n",
       "      <td>charlesl.gaskill</td>\n",
       "      <td>victoriensardou</td>\n",
       "      <td>helengardner pearlsindelar missfielding missro...</td>\n",
       "      <td>The fabled queen of Egypt's affair with Roman ...</td>\n",
       "      <td>0.530612</td>\n",
       "      <td>0.000196</td>\n",
       "      <td>helenecostello helengardner missfielding missr...</td>\n",
       "      <td>0.265404</td>\n",
       "    </tr>\n",
       "    <tr>\n",
       "      <th>4</th>\n",
       "      <td>tt0002130</td>\n",
       "      <td>l'inferno</td>\n",
       "      <td>1911</td>\n",
       "      <td>adventure drama fantasy</td>\n",
       "      <td>francescobertolini adolfopadovan</td>\n",
       "      <td>dantealighieri</td>\n",
       "      <td>salvatorepapa arturopirovano giuseppedeliguoro...</td>\n",
       "      <td>Loosely adapted from Dante's Divine Comedy and...</td>\n",
       "      <td>0.714286</td>\n",
       "      <td>0.000982</td>\n",
       "      <td>adolfopadovan giuseppedeliguoro pierdellevigne...</td>\n",
       "      <td>0.357634</td>\n",
       "    </tr>\n",
       "  </tbody>\n",
       "</table>\n",
       "</div>"
      ],
      "text/plain": [
       "  imdb_title_id               original_title  year                    genre  \\\n",
       "0     tt0000009                   miss jerry  1894                  romance   \n",
       "1     tt0000574  the story of the kelly gang  1906    biography crime drama   \n",
       "2     tt0001892               den sorte drøm  1911                    drama   \n",
       "3     tt0002101                    cleopatra  1912            drama history   \n",
       "4     tt0002130                    l'inferno  1911  adventure drama fantasy   \n",
       "\n",
       "                           director                              writer  \\\n",
       "0                    alexanderblack                      alexanderblack   \n",
       "1                       charlestait                         charlestait   \n",
       "2                          urbangad  urbangad gebhardschätzler-perasini   \n",
       "3                  charlesl.gaskill                     victoriensardou   \n",
       "4  francescobertolini adolfopadovan                      dantealighieri   \n",
       "\n",
       "                                              actors  \\\n",
       "0      blanchebayliss williamcourtenay chaunceydepew   \n",
       "1  elizabethtait johntait normancampbell bellacol...   \n",
       "2  astanielsen valdemarpsilander gunnarhelsengree...   \n",
       "3  helengardner pearlsindelar missfielding missro...   \n",
       "4  salvatorepapa arturopirovano giuseppedeliguoro...   \n",
       "\n",
       "                                         description  avg_vote     votes  \\\n",
       "0  The adventures of a female reporter in the 1890s.  0.602041  0.000068   \n",
       "1  True story of notorious Australian outlaw Ned ...  0.622449  0.000258   \n",
       "2  Two men of high rank are both wooing the beaut...  0.591837  0.000082   \n",
       "3  The fabled queen of Egypt's affair with Roman ...  0.530612  0.000196   \n",
       "4  Loosely adapted from Dante's Divine Comedy and...  0.714286  0.000982   \n",
       "\n",
       "                                           full_cast  metascore1  \n",
       "0  williamcourtenay chaunceydepew blanchebayliss ...    0.301054  \n",
       "1  charlestait johntait elizabethtait bellacola w...    0.311354  \n",
       "2  astanielsen gebhardschätzler-perasini valdemar...    0.295960  \n",
       "3  helenecostello helengardner missfielding missr...    0.265404  \n",
       "4  adolfopadovan giuseppedeliguoro pierdellevigne...    0.357634  "
      ]
     },
     "execution_count": 38,
     "metadata": {},
     "output_type": "execute_result"
    }
   ],
   "source": [
    "data.head()"
   ]
  },
  {
   "cell_type": "code",
   "execution_count": 42,
   "id": "953335b1",
   "metadata": {},
   "outputs": [],
   "source": [
    "data.to_csv('movies_data3.csv',index=False)"
   ]
  }
 ],
 "metadata": {
  "kernelspec": {
   "display_name": "Python 3",
   "language": "python",
   "name": "python3"
  },
  "language_info": {
   "codemirror_mode": {
    "name": "ipython",
    "version": 3
   },
   "file_extension": ".py",
   "mimetype": "text/x-python",
   "name": "python",
   "nbconvert_exporter": "python",
   "pygments_lexer": "ipython3",
   "version": "3.7.7"
  }
 },
 "nbformat": 4,
 "nbformat_minor": 5
}

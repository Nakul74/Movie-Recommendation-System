{
 "cells": [
  {
   "cell_type": "code",
   "execution_count": 1,
   "id": "8790ba56",
   "metadata": {},
   "outputs": [],
   "source": [
    "import pandas as pd\n",
    "import numpy as np\n",
    "import warnings\n",
    "warnings.filterwarnings('ignore')"
   ]
  },
  {
   "cell_type": "code",
   "execution_count": 2,
   "id": "b30a9c14",
   "metadata": {},
   "outputs": [
    {
     "data": {
      "text/html": [
       "<div>\n",
       "<style scoped>\n",
       "    .dataframe tbody tr th:only-of-type {\n",
       "        vertical-align: middle;\n",
       "    }\n",
       "\n",
       "    .dataframe tbody tr th {\n",
       "        vertical-align: top;\n",
       "    }\n",
       "\n",
       "    .dataframe thead th {\n",
       "        text-align: right;\n",
       "    }\n",
       "</style>\n",
       "<table border=\"1\" class=\"dataframe\">\n",
       "  <thead>\n",
       "    <tr style=\"text-align: right;\">\n",
       "      <th></th>\n",
       "      <th>imdb_title_id</th>\n",
       "      <th>original_title</th>\n",
       "      <th>year</th>\n",
       "      <th>genre</th>\n",
       "      <th>director</th>\n",
       "      <th>writer</th>\n",
       "      <th>description</th>\n",
       "      <th>actors</th>\n",
       "      <th>avg_vote</th>\n",
       "      <th>votes</th>\n",
       "      <th>metascore1</th>\n",
       "      <th>full_cast</th>\n",
       "    </tr>\n",
       "  </thead>\n",
       "  <tbody>\n",
       "    <tr>\n",
       "      <th>71510</th>\n",
       "      <td>tt3504158</td>\n",
       "      <td>chung fung jin ging</td>\n",
       "      <td>2013</td>\n",
       "      <td>Action Drama</td>\n",
       "      <td>dennislaw</td>\n",
       "      <td>dennislaw</td>\n",
       "      <td>dedicated police officer take pride duty looki...</td>\n",
       "      <td>simonyam suetlam samlee mengmengniu</td>\n",
       "      <td>0.48</td>\n",
       "      <td>0.000075</td>\n",
       "      <td>0.240038</td>\n",
       "      <td>dennislaw simonyam suetlam samlee mengmengniu</td>\n",
       "    </tr>\n",
       "    <tr>\n",
       "      <th>9782</th>\n",
       "      <td>tt0052327</td>\n",
       "      <td>the two-headed spy</td>\n",
       "      <td>1958</td>\n",
       "      <td>Drama Thriller War</td>\n",
       "      <td>andrédetoth</td>\n",
       "      <td>j.alvinkugelmass</td>\n",
       "      <td>based upon true story p scotland autobiography...</td>\n",
       "      <td>jackhawkins giascala erikschumann alexanderknox</td>\n",
       "      <td>0.70</td>\n",
       "      <td>0.000262</td>\n",
       "      <td>0.350131</td>\n",
       "      <td>andrédetoth j.alvinkugelmass jackhawkins giasc...</td>\n",
       "    </tr>\n",
       "    <tr>\n",
       "      <th>29160</th>\n",
       "      <td>tt0113971</td>\n",
       "      <td>nic smiesznego</td>\n",
       "      <td>1995</td>\n",
       "      <td>Comedy Drama</td>\n",
       "      <td>marekkoterski</td>\n",
       "      <td>marekkoterski</td>\n",
       "      <td>track hilariously bumbling calamity ridden lif...</td>\n",
       "      <td>cezarypazura marekkondrat ewablaszczyk henrykb...</td>\n",
       "      <td>0.74</td>\n",
       "      <td>0.001299</td>\n",
       "      <td>0.370650</td>\n",
       "      <td>marekkoterski cezarypazura marekkondrat ewabla...</td>\n",
       "    </tr>\n",
       "    <tr>\n",
       "      <th>22373</th>\n",
       "      <td>tt0090565</td>\n",
       "      <td>4 aventures de reinette et mirabelle</td>\n",
       "      <td>1987</td>\n",
       "      <td>Comedy Drama Romance</td>\n",
       "      <td>éricrohmer</td>\n",
       "      <td>éricrohmer</td>\n",
       "      <td>reinette mirabelle two young girl reinette lif...</td>\n",
       "      <td>joëllemiquel jessicaforde mr.housseau mme.hous...</td>\n",
       "      <td>0.77</td>\n",
       "      <td>0.000827</td>\n",
       "      <td>0.385414</td>\n",
       "      <td>éricrohmer joëllemiquel jessicaforde mr.housse...</td>\n",
       "    </tr>\n",
       "    <tr>\n",
       "      <th>41852</th>\n",
       "      <td>tt0317919</td>\n",
       "      <td>mission: impossible iii</td>\n",
       "      <td>2006</td>\n",
       "      <td>Action Adventure Thriller</td>\n",
       "      <td>j.j.abrams</td>\n",
       "      <td>alexkurtzman</td>\n",
       "      <td>imf agent ethan hunt come conflict dangerous s...</td>\n",
       "      <td>tomcruise philipseymourhoffman vingrhames bill...</td>\n",
       "      <td>0.69</td>\n",
       "      <td>0.142313</td>\n",
       "      <td>0.416157</td>\n",
       "      <td>j.j.abrams alexkurtzman tomcruise philipseymou...</td>\n",
       "    </tr>\n",
       "  </tbody>\n",
       "</table>\n",
       "</div>"
      ],
      "text/plain": [
       "      imdb_title_id                        original_title  year  \\\n",
       "71510     tt3504158                   chung fung jin ging  2013   \n",
       "9782      tt0052327                    the two-headed spy  1958   \n",
       "29160     tt0113971                        nic smiesznego  1995   \n",
       "22373     tt0090565  4 aventures de reinette et mirabelle  1987   \n",
       "41852     tt0317919               mission: impossible iii  2006   \n",
       "\n",
       "                           genre       director            writer  \\\n",
       "71510               Action Drama      dennislaw         dennislaw   \n",
       "9782          Drama Thriller War    andrédetoth  j.alvinkugelmass   \n",
       "29160               Comedy Drama  marekkoterski     marekkoterski   \n",
       "22373       Comedy Drama Romance     éricrohmer        éricrohmer   \n",
       "41852  Action Adventure Thriller     j.j.abrams      alexkurtzman   \n",
       "\n",
       "                                             description  \\\n",
       "71510  dedicated police officer take pride duty looki...   \n",
       "9782   based upon true story p scotland autobiography...   \n",
       "29160  track hilariously bumbling calamity ridden lif...   \n",
       "22373  reinette mirabelle two young girl reinette lif...   \n",
       "41852  imf agent ethan hunt come conflict dangerous s...   \n",
       "\n",
       "                                                  actors  avg_vote     votes  \\\n",
       "71510                simonyam suetlam samlee mengmengniu      0.48  0.000075   \n",
       "9782     jackhawkins giascala erikschumann alexanderknox      0.70  0.000262   \n",
       "29160  cezarypazura marekkondrat ewablaszczyk henrykb...      0.74  0.001299   \n",
       "22373  joëllemiquel jessicaforde mr.housseau mme.hous...      0.77  0.000827   \n",
       "41852  tomcruise philipseymourhoffman vingrhames bill...      0.69  0.142313   \n",
       "\n",
       "       metascore1                                          full_cast  \n",
       "71510    0.240038      dennislaw simonyam suetlam samlee mengmengniu  \n",
       "9782     0.350131  andrédetoth j.alvinkugelmass jackhawkins giasc...  \n",
       "29160    0.370650  marekkoterski cezarypazura marekkondrat ewabla...  \n",
       "22373    0.385414  éricrohmer joëllemiquel jessicaforde mr.housse...  \n",
       "41852    0.416157  j.j.abrams alexkurtzman tomcruise philipseymou...  "
      ]
     },
     "execution_count": 2,
     "metadata": {},
     "output_type": "execute_result"
    }
   ],
   "source": [
    "df = pd.read_csv(r'movies_data3.csv')\n",
    "df.sample(5)"
   ]
  },
  {
   "cell_type": "code",
   "execution_count": 3,
   "id": "0b23d6cd",
   "metadata": {},
   "outputs": [
    {
     "data": {
      "text/plain": [
       "(85854, 12)"
      ]
     },
     "execution_count": 3,
     "metadata": {},
     "output_type": "execute_result"
    }
   ],
   "source": [
    "df.shape"
   ]
  },
  {
   "cell_type": "code",
   "execution_count": 4,
   "id": "c50db33a",
   "metadata": {},
   "outputs": [],
   "source": [
    "from pywebio.output import put_table,put_image,put_link,put_markdown,put_text\n",
    "from pywebio.input import input,TEXT,NUMBER,FLOAT,select,input_group"
   ]
  },
  {
   "cell_type": "code",
   "execution_count": 5,
   "id": "1c3ceef3",
   "metadata": {},
   "outputs": [],
   "source": [
    "from sklearn.feature_extraction.text import CountVectorizer\n",
    "from sklearn.metrics.pairwise import cosine_similarity\n",
    "from youtubesearchpython import VideosSearch\n",
    "import json, requests\n",
    "\n",
    "api_key = 'ae425b92085fb0baed654d771acaed36'"
   ]
  },
  {
   "cell_type": "code",
   "execution_count": 6,
   "id": "c07247c1",
   "metadata": {},
   "outputs": [],
   "source": [
    "def metascore(mylist,df,vect):\n",
    "    name=[]\n",
    "    vectorizer = CountVectorizer(lowercase = False)\n",
    "    for i in mylist:\n",
    "        if i == 'genre':\n",
    "            vectorizer = CountVectorizer(lowercase = False,ngram_range=(1,3))\n",
    "        data_vect = vectorizer.fit_transform(df[i].fillna('None'))\n",
    "        vect1 = vectorizer.transform(vect[i])\n",
    "        sim_score = cosine_similarity(data_vect,vect1)\n",
    "        name.append('sim_score_'+i)\n",
    "        df['sim_score_'+i] = sim_score\n",
    "    return name, df"
   ]
  },
  {
   "cell_type": "code",
   "execution_count": 7,
   "id": "9c674c27",
   "metadata": {},
   "outputs": [],
   "source": [
    "def string_match(name, th = 0.8):\n",
    "    name = np.array(name)\n",
    "    vectorizer = CountVectorizer(lowercase = False)\n",
    "    i = 0\n",
    "    while(1):\n",
    "        s1 = name[[i]]\n",
    "        s2 = name[i+1:]\n",
    "        try:\n",
    "            vec1 = vectorizer.fit_transform(s1)\n",
    "        except:\n",
    "            i+=1\n",
    "            continue\n",
    "        vec2 = vectorizer.transform(s2)\n",
    "        sim_score = list(enumerate(cosine_similarity(vec1,vec2).ravel(),start=i+1))\n",
    "        idx = []\n",
    "        for j in sim_score:\n",
    "            if j[1]>th:\n",
    "                idx.append(j[0])\n",
    "        if idx:\n",
    "            name = np.delete(name,idx)\n",
    "            \n",
    "        i+=1\n",
    "        if (len(name)-1)<=i:\n",
    "            break\n",
    "            \n",
    "    return name.tolist()"
   ]
  },
  {
   "cell_type": "code",
   "execution_count": 8,
   "id": "25de30e2",
   "metadata": {},
   "outputs": [],
   "source": [
    "def movie_posters(names):\n",
    "    posters = {}\n",
    "    for i in names:\n",
    "        s = i.replace(' ','%20')\n",
    "        url = 'https://api.themoviedb.org/3/search/'+'movie'+'?api_key='+api_key+'&language=en-US&query=%27'+s+'%27&page=1&include_adult=false'\n",
    "        response = requests.get(url)\n",
    "        val = json.loads(response.text)\n",
    "        try:\n",
    "            posters[val['results'][0]['title'] + '(' + val['results'][0]['release_date'][:4] + ')'] = 'https://image.tmdb.org/t/p/w185/' + val['results'][0]['poster_path']\n",
    "        except:\n",
    "            pass\n",
    "        if len(posters) == 10:\n",
    "            break\n",
    "        \n",
    "    return posters"
   ]
  },
  {
   "cell_type": "code",
   "execution_count": 9,
   "id": "57967e29",
   "metadata": {},
   "outputs": [],
   "source": [
    "def trending_movies():\n",
    "    url='https://api.themoviedb.org/3/movie/popular?api_key='+api_key+'&language=en-US&page=1'\n",
    "    response = requests.get(url)\n",
    "    val = json.loads(response.text)\n",
    "    \n",
    "    trending = {}\n",
    "    for i in range(len(val['results'])):\n",
    "        trending[val['results'][i]['original_title'] + '(' + val['results'][i]['release_date'][:4] + ')'] = 'https://image.tmdb.org/t/p/w185/' + val['results'][i]['poster_path']\n",
    "        if i == 9:\n",
    "            break\n",
    "    return trending"
   ]
  },
  {
   "cell_type": "code",
   "execution_count": 10,
   "id": "7c9ba3eb",
   "metadata": {},
   "outputs": [],
   "source": [
    "def tmdb_recommendation(idx,s,e):\n",
    "    tmdb = []\n",
    "    \n",
    "    for j in range(5):\n",
    "        url='https://api.themoviedb.org/3/movie/'+str(idx)+'/recommendations?api_key='+api_key+'&language=en-US&page='+str(j+1)\n",
    "        response = requests.get(url)\n",
    "        val = json.loads(response.text)\n",
    "        if not val['results']:\n",
    "            break\n",
    "        for i in range(len(val['results'])):\n",
    "            if (int(val['results'][i]['release_date'][:4]) >= s) and (int(val['results'][i]['release_date'][:4]) <= e):\n",
    "                tmdb.append(val['results'][i]['original_title'])\n",
    "            if len(tmdb) == 20:\n",
    "                return tmdb           "
   ]
  },
  {
   "cell_type": "code",
   "execution_count": 11,
   "id": "f162e552",
   "metadata": {},
   "outputs": [],
   "source": [
    "def get_cast_dict(df,name,n):\n",
    "    d = {}\n",
    "    for i in range(n):\n",
    "        if df['profile_path'].values[i]:\n",
    "            profile_path = 'https://image.tmdb.org/t/p/w185/' + df['profile_path'].values[i]\n",
    "        else:\n",
    "            profile_path = 'https://www.canadaid.ca/wp-content/uploads/2019/02/no-image-available-180x300.jpg'\n",
    "        d[df[name].values[i]] = profile_path\n",
    "        if i == (df.shape[0]-1):\n",
    "            break \n",
    "    return d"
   ]
  },
  {
   "cell_type": "code",
   "execution_count": 12,
   "id": "9f09c70f",
   "metadata": {},
   "outputs": [],
   "source": [
    "def movies_cast(idx):\n",
    "    url='https://api.themoviedb.org/3/movie/'+str(idx)+'/credits?api_key='+api_key+'&language=en-US'\n",
    "    response = requests.get(url)\n",
    "    val = json.loads(response.text) \n",
    "    gender = {1:'Female',2:'Male'}\n",
    "    \n",
    "    a = {}\n",
    "    idx = []\n",
    "    cast = pd.DataFrame(val['cast'])\n",
    "    cast['character_name'] = cast['original_name'] + ' as ' + cast['character']\n",
    "    cast = cast[cast['known_for_department']=='Acting']\n",
    "    cast_dict = get_cast_dict(cast,'character_name',8)\n",
    "    if cast['profile_path'].values[0]:\n",
    "        profile_path = 'https://image.tmdb.org/t/p/w185/' + cast['profile_path'].values[0]\n",
    "    else:\n",
    "        profile_path = 'https://www.canadaid.ca/wp-content/uploads/2019/02/no-image-available-180x300.jpg'\n",
    "    a['profile_path'] = profile_path\n",
    "    a['name'] = ['Original_name : ' + '\\'' + cast['original_name'].values[0] + '\\'']\n",
    "    a['gender'] = ['Gender : ' + gender[cast['gender'].values[0]]]\n",
    "    a['department'] = ['Department : ' + cast['known_for_department'].values[0]]\n",
    "    a['pop'] = ['Popularity : ' + str(cast['popularity'].values[0])]\n",
    "    idx.append(cast['id'].values[0])\n",
    "    \n",
    "    d = {}\n",
    "    cast = pd.DataFrame(val['crew'])\n",
    "    directors = cast[cast['department']=='Directing']\n",
    "    directors_dict = get_cast_dict(directors,'original_name',4)\n",
    "    if directors['profile_path'].values[0]:\n",
    "        profile_path = 'https://image.tmdb.org/t/p/w185/' + directors['profile_path'].values[0]\n",
    "    else:\n",
    "        profile_path = 'https://www.canadaid.ca/wp-content/uploads/2019/02/no-image-available-180x300.jpg'\n",
    "    d['profile_path'] = profile_path\n",
    "    d['name'] = ['Original_name : ' + '\\'' + directors['original_name'].values[0] + '\\'']\n",
    "    d['gender'] = ['Gender : ' + gender[directors['gender'].values[0]]]\n",
    "    d['department'] = ['Department : ' + directors['known_for_department'].values[0]]\n",
    "    d['pop'] = ['Popularity : ' + str(directors['popularity'].values[0])]\n",
    "    idx.append(directors['id'].values[0])\n",
    "    \n",
    "    w = {}\n",
    "    writers = cast[cast['department']=='Writing']\n",
    "    writers_dict = get_cast_dict(writers,'original_name',4)\n",
    "    if writers['profile_path'].values[0]:\n",
    "        profile_path = 'https://image.tmdb.org/t/p/w185/' + writers['profile_path'].values[0]\n",
    "    else:\n",
    "        profile_path = 'https://www.canadaid.ca/wp-content/uploads/2019/02/no-image-available-180x300.jpg'\n",
    "    w['profile_path'] = profile_path\n",
    "    w['name'] = ['Original_name : ' + '\\'' + writers['original_name'].values[0] + '\\'']\n",
    "    w['gender'] = ['Gender : ' + gender[writers['gender'].values[0]]]\n",
    "    w['department'] = ['Department : ' + writers['known_for_department'].values[0]]\n",
    "    w['pop'] = ['Popularity : ' + str(writers['popularity'].values[0])]\n",
    "    idx.append(writers['id'].values[0])\n",
    "    \n",
    "    return cast_dict,directors_dict,writers_dict,a,d,w,idx"
   ]
  },
  {
   "cell_type": "code",
   "execution_count": 13,
   "id": "dac93090",
   "metadata": {},
   "outputs": [],
   "source": [
    "def top_cast_details(idx,movie_name):\n",
    "    url = 'https://api.themoviedb.org/3/person/'+str(idx)+'/movie_credits?api_key='+api_key+'&language=en-US'\n",
    "    response = requests.get(url)\n",
    "    val = json.loads(response.text)\n",
    "    temp = pd.DataFrame(val['cast'])\n",
    "    try:\n",
    "        temp.sort_values(by = 'popularity',ascending=False,inplace=True,ignore_index=True)\n",
    "        data = {}\n",
    "        name = {}\n",
    "\n",
    "        for i in range(30):\n",
    "            if (temp['original_title'][i] == movie_name):\n",
    "                continue\n",
    "            title = temp['original_title'][i] + '(' + temp['release_date'][i][:4] + ')'\n",
    "            if temp['poster_path'][i]:\n",
    "                poster_path = 'https://image.tmdb.org/t/p/w185/' + temp['poster_path'][i]\n",
    "            else:\n",
    "                poster_path = 'https://www.canadaid.ca/wp-content/uploads/2019/02/no-image-available-180x300.jpg'\n",
    "            data[title] = poster_path\n",
    "            name[temp['original_title'][i]] = title\n",
    "\n",
    "            if i == (temp.shape[0]-1):\n",
    "                break\n",
    "\n",
    "        s = list(name.keys())   \n",
    "        s = string_match(s, th = 0.8)\n",
    "\n",
    "        d = {}\n",
    "        for i in name.keys():\n",
    "            if i in s:\n",
    "                d[name[i]] = data[name[i]]\n",
    "            if len(d) >= 8:\n",
    "                break\n",
    "\n",
    "        return d\n",
    "    except:\n",
    "        return {}"
   ]
  },
  {
   "cell_type": "code",
   "execution_count": 14,
   "id": "9f7a897d",
   "metadata": {},
   "outputs": [],
   "source": [
    "def similarity(movie, mylist = ['genre','full_cast'], weight='balanced', pop = 5, start_year = 2000, end_year = 2020, min_rating = 5.0, Total_votes = 100000):\n",
    "    data = {}\n",
    "    df = pd.read_csv(r'movies_data3.csv') \n",
    "    s = movie.replace(' ','%20')\n",
    "    url = 'https://api.themoviedb.org/3/search/'+'movie'+'?api_key='+api_key+'&language=en-US&query=%27'+s+'%27&page=1&include_adult=false'\n",
    "    response = requests.get(url)\n",
    "    val = json.loads(response.text)\n",
    "    if not val['results']:\n",
    "        return [],[],[]\n",
    "    data['id'] = val['results'][0]['id']\n",
    "    if val['results'][0]['poster_path']:\n",
    "        data['poster'] = 'https://image.tmdb.org/t/p/w185/' + val['results'][0]['poster_path']\n",
    "    else:\n",
    "        data['poster'] = 'https://www.canadaid.ca/wp-content/uploads/2019/02/no-image-available-180x300.jpg'\n",
    "    data['name'] = ['Name : ' + '\\'' + val['results'][0]['title'] + '\\'']\n",
    "    movie_name = val['results'][0]['title']\n",
    "    data['language'] = ['Language : ' + val['results'][0]['original_language']]\n",
    "    data['release_date'] = ['Release Date : ' + val['results'][0]['release_date']]\n",
    "    data['ratings'] = ['Ratings : ' + str(val['results'][0]['vote_average']) + ' (' + str(val['results'][0]['vote_count']) + ')']\n",
    "    data['overview'] = [val['results'][0]['overview']]\n",
    "    trailer_search = val['results'][0]['title'] + ' ' + val['results'][0]['release_date'][:4] + ' official' + ' trailer'\n",
    "    videosSearch = VideosSearch(trailer_search, limit = 1)\n",
    "    result = videosSearch.result()\n",
    "    data['trailer_link'] = result['result'][0]['link']\n",
    "    url = 'https://api.themoviedb.org/3/movie/'+str(data['id'])+'?api_key='+api_key+'&language=en-US'\n",
    "    response = requests.get(url)\n",
    "    val2 = json.loads(response.text)\n",
    "    genres = []\n",
    "    for i in range(len(val2['genres'])):\n",
    "        genres.append(val2['genres'][i]['name'])\n",
    "        \n",
    "    data['genres'] = ['Genres : ' + ', '.join(genres)]\n",
    "    data['imdb_id'] = val2['imdb_id']\n",
    "    data['duration'] = ['Duration : ' + str(val2['runtime']) + ' minutes']\n",
    "    data['tagline'] = ['Tagline : ' + val2['tagline']]\n",
    "      \n",
    "    vect = df.loc[df['imdb_title_id'] == str(data['imdb_id'])]\n",
    "    if vect.empty:\n",
    "        name = tmdb_recommendation(data['id'], start_year, end_year)\n",
    "    else:\n",
    "        min_rating = (min_rating/10.0)\n",
    "        Total_votes = (Total_votes/2278845.0)\n",
    "        df = df[((df.year >= start_year) & (df.year <= end_year)) & (df.votes >= Total_votes) & (df.avg_vote >= min_rating)]\n",
    "        if df.empty:\n",
    "            name = []\n",
    "        else:\n",
    "            name,df = metascore(mylist,df,vect)\n",
    "            if (weight == 'balanced') | (len(mylist) == 1):\n",
    "                weights=[(1.0 / len(mylist))] * len(mylist)\n",
    "            else:\n",
    "                s = sum(weight)\n",
    "                weights = [i/s for i in weight]\n",
    "            df['metascore2'] = 0.0\n",
    "            for i in range(len(name)):\n",
    "                df['metascore2'] = df['metascore2'] + df[name[i]]*weights[i]\n",
    "            my_weight=(pop / 10.0)\n",
    "            df['metascore'] = df['metascore1']*my_weight + df['metascore2']*(1.0-my_weight)\n",
    "            sorted_data = df.sort_values(by = ['metascore'], ascending=False)\n",
    "            name = sorted_data.iloc[:31,[1]].values.ravel().tolist() \n",
    "            if val['results'][0]['title'].lower() in name:\n",
    "                name.remove(val['results'][0]['title'].lower())\n",
    "    if name: \n",
    "        name = string_match(name,th=0.8)\n",
    "        name = movie_posters(name)\n",
    "\n",
    "    return data,name,movie_name"
   ]
  },
  {
   "cell_type": "code",
   "execution_count": 15,
   "id": "c108cb6f",
   "metadata": {},
   "outputs": [],
   "source": [
    "start_date = 1990\n",
    "end_date = 2021\n",
    "popularity = 0.3\n",
    "rating = 5.0\n",
    "no_votes = 1000\n",
    "mylist = ['genre']\n",
    "myweight = 'balanced'\n",
    "movie_name = 'the green mile'\n",
    "\n",
    "data,name,movie_name = similarity(movie_name,mylist,myweight,popularity,start_date,end_date,rating,no_votes)"
   ]
  },
  {
   "cell_type": "code",
   "execution_count": 16,
   "id": "f8ba8f7c",
   "metadata": {},
   "outputs": [
    {
     "data": {
      "text/plain": [
       "{'Let the Right One In(2008)': 'https://image.tmdb.org/t/p/w185//7IG4WjaAOVDlLvLUkh513HSwhW8.jpg',\n",
       " 'Lilies(1996)': 'https://image.tmdb.org/t/p/w185//uKmFhaPD0EzqJr0tjvXclr11FkA.jpg',\n",
       " 'Border(2018)': 'https://image.tmdb.org/t/p/w185//8KzOTRlKjdAKQTemV41hq86ldFS.jpg',\n",
       " 'The Frame(2014)': 'https://image.tmdb.org/t/p/w185//82Tpv6o0zpkN2OsNXYK3feBRe10.jpg',\n",
       " 'Sicilian Ghost Story(2017)': 'https://image.tmdb.org/t/p/w185//bqKVM6ujKR1UkyehoRaBsxw2D8w.jpg',\n",
       " 'Needful Things(1993)': 'https://image.tmdb.org/t/p/w185//9RxE6kd1ky4689WxqX6CHEpIWya.jpg',\n",
       " 'The Invisible Man(2020)': 'https://image.tmdb.org/t/p/w185//5EufsDwXdY2CVttYOk2WtYhgKpa.jpg',\n",
       " 'The Warning(2018)': 'https://image.tmdb.org/t/p/w185//vpiXfao6p0JonETFaLVhrpIkPTy.jpg',\n",
       " 'Cosmopolis(2012)': 'https://image.tmdb.org/t/p/w185//94m7J9YeO0W7IEbfsOtFbweGgcu.jpg',\n",
       " 'Pulp Fiction(1994)': 'https://image.tmdb.org/t/p/w185//d5iIlFn5s0ImszYzBPb8JPIfbXD.jpg'}"
      ]
     },
     "execution_count": 16,
     "metadata": {},
     "output_type": "execute_result"
    }
   ],
   "source": [
    "name"
   ]
  },
  {
   "cell_type": "code",
   "execution_count": 17,
   "id": "06e605db",
   "metadata": {},
   "outputs": [
    {
     "data": {
      "text/plain": [
       "{'id': 497,\n",
       " 'poster': 'https://image.tmdb.org/t/p/w185//velWPhVMQeQKcxggNEU8YmIo52R.jpg',\n",
       " 'name': [\"Name : 'The Green Mile'\"],\n",
       " 'language': ['Language : en'],\n",
       " 'release_date': ['Release Date : 1999-12-10'],\n",
       " 'ratings': ['Ratings : 8.5 (12463)'],\n",
       " 'overview': [\"A supernatural tale set on death row in a Southern prison, where gentle giant John Coffey possesses the mysterious power to heal people's ailments. When the cell block's head guard, Paul Edgecomb, recognizes Coffey's miraculous gift, he tries desperately to help stave off the condemned man's execution.\"],\n",
       " 'trailer_link': 'https://www.youtube.com/watch?v=Ki4haFrqSrw',\n",
       " 'genres': ['Genres : Fantasy, Drama, Crime'],\n",
       " 'imdb_id': 'tt0120689',\n",
       " 'duration': ['Duration : 189 minutes'],\n",
       " 'tagline': ['Tagline : Miracles do happen.']}"
      ]
     },
     "execution_count": 17,
     "metadata": {},
     "output_type": "execute_result"
    }
   ],
   "source": [
    "data"
   ]
  },
  {
   "cell_type": "code",
   "execution_count": 18,
   "id": "09c78c5c",
   "metadata": {},
   "outputs": [],
   "source": [
    "cast_dict, directors_dict, writers_dict, a, d, w, idx = movies_cast(data['id'])\n",
    "\n",
    "actor = top_cast_details(idx[0],movie_name)\n",
    "director = top_cast_details(idx[1],movie_name)\n",
    "writer = top_cast_details(idx[2],movie_name)"
   ]
  },
  {
   "cell_type": "code",
   "execution_count": 19,
   "id": "a4a9a75b",
   "metadata": {},
   "outputs": [
    {
     "data": {
      "text/plain": [
       "{'profile_path': 'https://image.tmdb.org/t/p/w185//xndWFsBlClOJFRdhSt4NBwiPq2o.jpg',\n",
       " 'name': [\"Original_name : 'Tom Hanks'\"],\n",
       " 'gender': ['Gender : Male'],\n",
       " 'department': ['Department : Acting'],\n",
       " 'pop': ['Popularity : 21.652']}"
      ]
     },
     "execution_count": 19,
     "metadata": {},
     "output_type": "execute_result"
    }
   ],
   "source": [
    "a"
   ]
  },
  {
   "cell_type": "code",
   "execution_count": 20,
   "id": "8bdaaa21",
   "metadata": {},
   "outputs": [
    {
     "data": {
      "text/plain": [
       "{'profile_path': 'https://image.tmdb.org/t/p/w185//nvOqAQhKtXdHtczgqanoCfltsxJ.jpg',\n",
       " 'name': [\"Original_name : 'Frank Darabont'\"],\n",
       " 'gender': ['Gender : Male'],\n",
       " 'department': ['Department : Directing'],\n",
       " 'pop': ['Popularity : 5.082']}"
      ]
     },
     "execution_count": 20,
     "metadata": {},
     "output_type": "execute_result"
    }
   ],
   "source": [
    "d"
   ]
  },
  {
   "cell_type": "code",
   "execution_count": 21,
   "id": "0d77a944",
   "metadata": {},
   "outputs": [
    {
     "data": {
      "text/plain": [
       "{'profile_path': 'https://image.tmdb.org/t/p/w185//7r5nEzNanuEhmxtpsKE1uCBU5Jd.jpg',\n",
       " 'name': [\"Original_name : 'Stephen King'\"],\n",
       " 'gender': ['Gender : Male'],\n",
       " 'department': ['Department : Writing'],\n",
       " 'pop': ['Popularity : 3.476']}"
      ]
     },
     "execution_count": 21,
     "metadata": {},
     "output_type": "execute_result"
    }
   ],
   "source": [
    "w"
   ]
  },
  {
   "cell_type": "code",
   "execution_count": 22,
   "id": "ef74ba55",
   "metadata": {},
   "outputs": [
    {
     "data": {
      "text/plain": [
       "{'Toy Story(1995)': 'https://image.tmdb.org/t/p/w185//uXDfjJbdP4ijW5hWSBrPrlKpxab.jpg',\n",
       " 'The Simpsons Movie(2007)': 'https://image.tmdb.org/t/p/w185//s3b8TZWwmkYc2KoJ5zk77qB6PzY.jpg',\n",
       " 'Forrest Gump(1994)': 'https://image.tmdb.org/t/p/w185//h5J4W4veyxMXDMjeNxZI46TsHOb.jpg',\n",
       " 'Cars(2006)': 'https://image.tmdb.org/t/p/w185//qa6HCwP4Z15l3hpsASz3auugEW6.jpg',\n",
       " 'News of the World(2020)': 'https://image.tmdb.org/t/p/w185//fYQCgVRsQTEfUrP7cW5iAFVYOlh.jpg',\n",
       " 'Sully(2016)': 'https://image.tmdb.org/t/p/w185//5L29r3uwDe49XDMaK2xDkDht9t0.jpg',\n",
       " 'Saving Private Ryan(1998)': 'https://image.tmdb.org/t/p/w185//1wY4psJ5NVEhCuOYROwLH2XExM2.jpg',\n",
       " 'The Polar Express(2004)': 'https://image.tmdb.org/t/p/w185//zCuq1sy3xwbJJytFttp2qItqdc8.jpg'}"
      ]
     },
     "execution_count": 22,
     "metadata": {},
     "output_type": "execute_result"
    }
   ],
   "source": [
    "actor"
   ]
  },
  {
   "cell_type": "code",
   "execution_count": 23,
   "id": "0de9d006",
   "metadata": {},
   "outputs": [
    {
     "data": {
      "text/plain": [
       "{'The Making of The Walking Dead(2010)': 'https://www.canadaid.ca/wp-content/uploads/2019/02/no-image-available-180x300.jpg',\n",
       " 'Fear Himself: The Life and Crimes of Freddy Krueger(2012)': 'https://image.tmdb.org/t/p/w185//yDhdUPsXoyISfFEY0PQVNQnWaAw.jpg',\n",
       " 'Drew: The Man Behind the Poster(2013)': 'https://image.tmdb.org/t/p/w185//xZ0lzSIEmwa7yBx2KwtsBKLkhz7.jpg',\n",
       " 'Stephen King: Shining in the Dark(1999)': 'https://image.tmdb.org/t/p/w185//1F0bQ77FBIEk0PbS3vV8mbLgZSj.jpg',\n",
       " 'Fantastic Flesh: The Art of Make-Up EFX(2008)': 'https://image.tmdb.org/t/p/w185//mLtA5V91BLALD7Kf4T44fcVWKfP.jpg',\n",
       " 'Tales from the Script(2009)': 'https://image.tmdb.org/t/p/w185//dnKAvhpt9unt7nBx86Ma4bk9aFc.jpg',\n",
       " 'Nightmare Factory(2011)': 'https://image.tmdb.org/t/p/w185//aKTceKHI7kCzs6LLFr5262HePMS.jpg',\n",
       " 'The United Monster Talent Agency(2010)': 'https://www.canadaid.ca/wp-content/uploads/2019/02/no-image-available-180x300.jpg'}"
      ]
     },
     "execution_count": 23,
     "metadata": {},
     "output_type": "execute_result"
    }
   ],
   "source": [
    "director"
   ]
  },
  {
   "cell_type": "code",
   "execution_count": 24,
   "id": "d9f6f865",
   "metadata": {},
   "outputs": [
    {
     "data": {
      "text/plain": [
       "{'It Chapter Two(2019)': 'https://image.tmdb.org/t/p/w185//zfE0R94v1E8cuKAerbskfD3VfUt.jpg',\n",
       " 'Pet Sematary(1989)': 'https://image.tmdb.org/t/p/w185//a1gIACZb04bL8EvLqMpofW2Eqeo.jpg',\n",
       " 'Creepshow(1982)': 'https://image.tmdb.org/t/p/w185//4SoyTCEpsgLjX6yAyMsx3AsAyRQ.jpg',\n",
       " 'Stuck in Love(2013)': 'https://image.tmdb.org/t/p/w185//6vG0eCHT2e4uH035g1s6JTouU6R.jpg',\n",
       " 'Sleepwalkers(1992)': 'https://image.tmdb.org/t/p/w185//p1mCpwvdui1XfS13Fii1Tn0jC0q.jpg',\n",
       " 'Diary of the Dead(2008)': 'https://image.tmdb.org/t/p/w185//tGktSJW5dPf8QIjmcqum4KOEZPZ.jpg',\n",
       " 'Maximum Overdrive(1986)': 'https://image.tmdb.org/t/p/w185//cFrKCumtZMHCWwWNxgGRyaxhYu2.jpg',\n",
       " 'Thinner(1996)': 'https://image.tmdb.org/t/p/w185//wmnTIiRf3Nl5jhMlqLRXQY5msN6.jpg'}"
      ]
     },
     "execution_count": 24,
     "metadata": {},
     "output_type": "execute_result"
    }
   ],
   "source": [
    "writer"
   ]
  },
  {
   "cell_type": "code",
   "execution_count": 25,
   "id": "2b01c176",
   "metadata": {},
   "outputs": [],
   "source": [
    "def print_image(name,path):\n",
    "    if name:\n",
    "        if len(name) == 1:\n",
    "            put_table([[put_image(path[0])]],header = name[:1])\n",
    "\n",
    "        elif len(name) == 2:\n",
    "            put_table([[put_image(path[0]),\n",
    "                        put_image(path[1])]],header = name[:2])\n",
    "\n",
    "        elif len(name) == 3:\n",
    "            put_table([[put_image(path[0]),\n",
    "                        put_image(path[1]),\n",
    "                        put_image(path[2])]],header = name[:3])\n",
    "\n",
    "        elif len(name) == 4:\n",
    "            put_table([[put_image(path[0]),\n",
    "                        put_image(path[1]),\n",
    "                        put_image(path[2]),\n",
    "                        put_image(path[3])]],header = name[:4])\n",
    "        else:\n",
    "            put_table([[put_image(path[0]),\n",
    "                        put_image(path[1]),\n",
    "                        put_image(path[2]),\n",
    "                        put_image(path[3]),\n",
    "                        put_image(path[4])]],header = name[:5])"
   ]
  },
  {
   "cell_type": "code",
   "execution_count": 26,
   "id": "9c5bb42d",
   "metadata": {},
   "outputs": [],
   "source": [
    "def pywebio_testing():\n",
    "    recommend_type = ['genre' ,'genre + original_title', 'genre + full_cast', 'genre + description']\n",
    "    \n",
    "    movie = input_group(\"Movie Recommendation System\",[\n",
    "            input('Enter the name of the movie',placeholder = \"(eg: Iron man)\", type = TEXT, name = 'movie_name'),\n",
    "            input('Start year of movies to recommend',placeholder = \"(eg: 2000)\", name='start_date', type = NUMBER),\n",
    "            input('End year of movies to recommend',placeholder = \"(eg: 2021)\", name='end_date', type = NUMBER),\n",
    "            input('Enter popularity score of movies to recommend',placeholder = 'Number between 0 to 1 (weightage) eg: 0.3', name='pop_score', type = FLOAT),\n",
    "            input('Enter minimum ratings of movies to recommend',placeholder = 'Number between 0 to 10 (min rating) eg: 5.0', name='min_rating', type = FLOAT),\n",
    "            input('Enter minimum number of votes for movies to recommend (eg:100000)', name='votes', type = NUMBER),\n",
    "            select(\"Select the type of recommendation：\",recommend_type,name='type')\n",
    "            ])\n",
    "    \n",
    "    start_date = movie['start_date']\n",
    "    end_date = movie['end_date']\n",
    "    popularity = movie['pop_score']\n",
    "    rating = movie['min_rating']\n",
    "    no_votes = movie['votes']\n",
    "    mylist = movie['type'].split(' + ')\n",
    "    myweight = 'balanced'\n",
    "    movie_name = movie['movie_name']\n",
    "    \n",
    "    data,name,movie_name = similarity(movie_name, mylist, myweight, popularity, start_date, end_date, rating, no_votes)\n",
    "\n",
    "    if not data:\n",
    "        put_markdown(r\"\"\" ### No movies to recommend check the movie name entered\"\"\")\n",
    "    else:\n",
    "        temp = []\n",
    "        for i in ['name','genres','language','release_date','ratings','duration','tagline']:\n",
    "            temp.append(data[i])\n",
    "\n",
    "        put_table([[put_table([[put_image(data['poster']),put_table(temp)]],header = ['Movie Poster','Details'])] , \n",
    "                   [put_link(name = 'Click here to view trailer',url = data['trailer_link'])],\n",
    "                   [put_table([data['overview']],header=['Overview'])] ])\n",
    "        \n",
    "        cast_dict, directors_dict, writers_dict, a, d, w, idx = movies_cast(data['id'])\n",
    "        del data\n",
    "        \n",
    "        if cast_dict:\n",
    "            put_markdown(r\"\"\" # Top cast from the movie :\"\"\")\n",
    "            names = list(cast_dict.keys())\n",
    "            path = list(cast_dict.values())\n",
    "            print_image(names[:4],path[:4])\n",
    "            print_image(names[4:],path[4:])\n",
    "            del cast_dict\n",
    "            \n",
    "        if directors_dict:\n",
    "            put_markdown(r\"\"\" # Directors of the movie :\"\"\")\n",
    "            names = list(directors_dict.keys())\n",
    "            path = list(directors_dict.values())\n",
    "            print_image(names,path)\n",
    "            del directors_dict\n",
    "            \n",
    "        if writers_dict:\n",
    "            put_markdown(r\"\"\" # Writers of the movie :\"\"\")\n",
    "            names = list(writers_dict.keys())\n",
    "            path = list(writers_dict.values())\n",
    "            print_image(names,path)\n",
    "            del writers_dict\n",
    "        \n",
    "        actor = top_cast_details(idx[0],movie_name)\n",
    "        if actor:\n",
    "            put_markdown(r\"\"\" # Top movies of the lead({}) :\"\"\".format(a['name'][0].split(' : ')[1]))\n",
    "            temp = list(a.values())[1:]\n",
    "            put_table([[put_image(a['profile_path']),put_table(temp)]],header = ['Actor Poster','Details'])\n",
    "            names = list(actor.keys())\n",
    "            path = list(actor.values())\n",
    "            print_image(names[:4],path[:4])\n",
    "            print_image(names[4:],path[4:])\n",
    "            del actor\n",
    "        \n",
    "        director = top_cast_details(idx[1],movie_name)\n",
    "        if director:\n",
    "            if idx[1] == idx[2]:\n",
    "                put_markdown(r\"\"\" # Top movies of the director and writer({}) :\"\"\".format(d['name'][0].split(' : ')[1]))\n",
    "            else:   \n",
    "                put_markdown(r\"\"\" # Top movies of the director({}) :\"\"\".format(d['name'][0].split(' : ')[1]))\n",
    "            temp = list(d.values())[1:]\n",
    "            put_table([[put_image(d['profile_path']),put_table(temp)]],header = ['Director Poster','Details'])\n",
    "            names = list(director.keys())\n",
    "            path = list(director.values())\n",
    "            print_image(names[:4],path[:4])\n",
    "            print_image(names[4:],path[4:])\n",
    "            del director\n",
    "         \n",
    "        if idx[1] != idx[2]:\n",
    "            writer = top_cast_details(idx[2],movie_name) \n",
    "            \n",
    "            if writer:\n",
    "                put_markdown(r\"\"\" # Top movies of the writer({}) :\"\"\".format(w['name'][0].split(' : ')[1]))\n",
    "                temp = list(w.values())[1:]\n",
    "                put_table([[put_image(w['profile_path']),put_table(temp)]],header = ['Writer Poster','Details'])\n",
    "                names = list(writer.keys())\n",
    "                path = list(writer.values())\n",
    "                print_image(names[:4],path[:4])\n",
    "                print_image(names[4:],path[4:])\n",
    "                del writer\n",
    "\n",
    "        if not name:\n",
    "            put_markdown(r\"\"\" ### No movies to recommend try again with different parameters\"\"\")\n",
    "        else:\n",
    "            s = 'for movie \\'' + movie_name + '\\''\n",
    "            put_markdown(r\"\"\" # Recommended Movies({}) :\"\"\".format(s))\n",
    "            names = list(name.keys())\n",
    "            path = list(name.values())\n",
    "            print_image(names[:5],path[:5])\n",
    "            print_image(names[5:],path[5:])\n",
    "            \n",
    "        put_markdown(r\"\"\" # Trending Movies :\"\"\")\n",
    "        name = trending_movies()\n",
    "        names = list(name.keys())\n",
    "        path = list(name.values())\n",
    "        print_image(names[:5],path[:5])\n",
    "        print_image(names[5:],path[5:])\n",
    "        \n",
    "        put_markdown(r\"\"\" ### Created by Nakul Chamariya \"\"\")\n",
    "        put_link(name = 'Github Code Link', url = 'https://github.com/Nakul74/Movie-Recommendation-System')\n",
    "        put_markdown(r\"\"\" #### Contact details : \"\"\")\n",
    "        put_text('Email id : nakulchamariya74@gmail.com')\n",
    "        put_text('LinkedIn link : www.linkedin.com/in/nakul-chamariya')"
   ]
  },
  {
   "cell_type": "code",
   "execution_count": 27,
   "id": "748ff677",
   "metadata": {},
   "outputs": [],
   "source": [
    "pywebio_testing()"
   ]
  },
  {
   "cell_type": "code",
   "execution_count": null,
   "id": "0464b0d7",
   "metadata": {},
   "outputs": [],
   "source": []
  }
 ],
 "metadata": {
  "kernelspec": {
   "display_name": "Python 3",
   "language": "python",
   "name": "python3"
  },
  "language_info": {
   "codemirror_mode": {
    "name": "ipython",
    "version": 3
   },
   "file_extension": ".py",
   "mimetype": "text/x-python",
   "name": "python",
   "nbconvert_exporter": "python",
   "pygments_lexer": "ipython3",
   "version": "3.7.7"
  }
 },
 "nbformat": 4,
 "nbformat_minor": 5
}
